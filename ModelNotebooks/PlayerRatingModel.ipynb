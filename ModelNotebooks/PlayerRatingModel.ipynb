{
  "nbformat": 4,
  "nbformat_minor": 0,
  "metadata": {
    "colab": {
      "provenance": []
    },
    "kernelspec": {
      "name": "python3",
      "display_name": "Python 3"
    },
    "language_info": {
      "name": "python"
    }
  },
  "cells": [
    {
      "cell_type": "code",
      "execution_count": null,
      "metadata": {
        "colab": {
          "base_uri": "https://localhost:8080/"
        },
        "id": "_RPBYF5KcGJL",
        "outputId": "9411b8a2-5aaf-4363-b324-221984d99dd1"
      },
      "outputs": [
        {
          "output_type": "stream",
          "name": "stdout",
          "text": [
            "Requirement already satisfied: statsbombpy in /usr/local/lib/python3.10/dist-packages (1.13.1)\n",
            "Requirement already satisfied: pandas in /usr/local/lib/python3.10/dist-packages (from statsbombpy) (2.1.4)\n",
            "Requirement already satisfied: requests in /usr/local/lib/python3.10/dist-packages (from statsbombpy) (2.32.3)\n",
            "Requirement already satisfied: requests-cache in /usr/local/lib/python3.10/dist-packages (from statsbombpy) (1.2.1)\n",
            "Requirement already satisfied: inflect in /usr/local/lib/python3.10/dist-packages (from statsbombpy) (7.3.1)\n",
            "Requirement already satisfied: joblib in /usr/local/lib/python3.10/dist-packages (from statsbombpy) (1.4.2)\n",
            "Requirement already satisfied: more-itertools>=8.5.0 in /usr/local/lib/python3.10/dist-packages (from inflect->statsbombpy) (10.3.0)\n",
            "Requirement already satisfied: typeguard>=4.0.1 in /usr/local/lib/python3.10/dist-packages (from inflect->statsbombpy) (4.3.0)\n",
            "Requirement already satisfied: numpy<2,>=1.22.4 in /usr/local/lib/python3.10/dist-packages (from pandas->statsbombpy) (1.26.4)\n",
            "Requirement already satisfied: python-dateutil>=2.8.2 in /usr/local/lib/python3.10/dist-packages (from pandas->statsbombpy) (2.8.2)\n",
            "Requirement already satisfied: pytz>=2020.1 in /usr/local/lib/python3.10/dist-packages (from pandas->statsbombpy) (2024.1)\n",
            "Requirement already satisfied: tzdata>=2022.1 in /usr/local/lib/python3.10/dist-packages (from pandas->statsbombpy) (2024.1)\n",
            "Requirement already satisfied: charset-normalizer<4,>=2 in /usr/local/lib/python3.10/dist-packages (from requests->statsbombpy) (3.3.2)\n",
            "Requirement already satisfied: idna<4,>=2.5 in /usr/local/lib/python3.10/dist-packages (from requests->statsbombpy) (3.8)\n",
            "Requirement already satisfied: urllib3<3,>=1.21.1 in /usr/local/lib/python3.10/dist-packages (from requests->statsbombpy) (2.0.7)\n",
            "Requirement already satisfied: certifi>=2017.4.17 in /usr/local/lib/python3.10/dist-packages (from requests->statsbombpy) (2024.7.4)\n",
            "Requirement already satisfied: attrs>=21.2 in /usr/local/lib/python3.10/dist-packages (from requests-cache->statsbombpy) (24.2.0)\n",
            "Requirement already satisfied: cattrs>=22.2 in /usr/local/lib/python3.10/dist-packages (from requests-cache->statsbombpy) (24.1.0)\n",
            "Requirement already satisfied: platformdirs>=2.5 in /usr/local/lib/python3.10/dist-packages (from requests-cache->statsbombpy) (4.2.2)\n",
            "Requirement already satisfied: url-normalize>=1.4 in /usr/local/lib/python3.10/dist-packages (from requests-cache->statsbombpy) (1.4.3)\n",
            "Requirement already satisfied: exceptiongroup>=1.1.1 in /usr/local/lib/python3.10/dist-packages (from cattrs>=22.2->requests-cache->statsbombpy) (1.2.2)\n",
            "Requirement already satisfied: typing-extensions!=4.6.3,>=4.1.0 in /usr/local/lib/python3.10/dist-packages (from cattrs>=22.2->requests-cache->statsbombpy) (4.12.2)\n",
            "Requirement already satisfied: six>=1.5 in /usr/local/lib/python3.10/dist-packages (from python-dateutil>=2.8.2->pandas->statsbombpy) (1.16.0)\n"
          ]
        }
      ],
      "source": [
        "!pip install statsbombpy"
      ]
    },
    {
      "cell_type": "code",
      "source": [
        "import pandas as pd\n",
        "import numpy as np\n",
        "from statsbombpy import sb\n",
        "from sklearn.model_selection import train_test_split\n",
        "from sklearn.ensemble import RandomForestRegressor\n",
        "from sklearn.metrics import mean_squared_error, r2_score\n",
        "import matplotlib.pyplot as plt\n",
        "import seaborn as sns\n",
        "\n",
        "# Load the StatsBomb data\n",
        "competitions = sb.competitions()\n",
        "competition_id = 11  # La Liga\n",
        "season_id = 4  # 2017/2018\n",
        "\n",
        "# Get match IDs for the competition and season\n",
        "matches = sb.matches(competition_id=competition_id, season_id=season_id)\n",
        "\n",
        "# Fetch events for each match and concatenate them into a single DataFrame\n",
        "event_data = pd.concat([sb.events(match_id) for match_id in matches['match_id']])"
      ],
      "metadata": {
        "colab": {
          "base_uri": "https://localhost:8080/"
        },
        "id": "rQvC3NEPjvBV",
        "outputId": "92032b9a-7dc6-4d56-add8-8cf466d31174"
      },
      "execution_count": null,
      "outputs": [
        {
          "output_type": "stream",
          "name": "stderr",
          "text": [
            "/usr/local/lib/python3.10/dist-packages/statsbombpy/api_client.py:21: NoAuthWarning: credentials were not supplied. open data access only\n",
            "  warnings.warn(\n",
            "/usr/local/lib/python3.10/dist-packages/statsbombpy/api_client.py:21: NoAuthWarning: credentials were not supplied. open data access only\n",
            "  warnings.warn(\n",
            "/usr/local/lib/python3.10/dist-packages/statsbombpy/api_client.py:21: NoAuthWarning: credentials were not supplied. open data access only\n",
            "  warnings.warn(\n",
            "/usr/local/lib/python3.10/dist-packages/statsbombpy/api_client.py:21: NoAuthWarning: credentials were not supplied. open data access only\n",
            "  warnings.warn(\n",
            "/usr/local/lib/python3.10/dist-packages/statsbombpy/api_client.py:21: NoAuthWarning: credentials were not supplied. open data access only\n",
            "  warnings.warn(\n",
            "/usr/local/lib/python3.10/dist-packages/statsbombpy/api_client.py:21: NoAuthWarning: credentials were not supplied. open data access only\n",
            "  warnings.warn(\n",
            "/usr/local/lib/python3.10/dist-packages/statsbombpy/api_client.py:21: NoAuthWarning: credentials were not supplied. open data access only\n",
            "  warnings.warn(\n",
            "/usr/local/lib/python3.10/dist-packages/statsbombpy/api_client.py:21: NoAuthWarning: credentials were not supplied. open data access only\n",
            "  warnings.warn(\n",
            "/usr/local/lib/python3.10/dist-packages/statsbombpy/api_client.py:21: NoAuthWarning: credentials were not supplied. open data access only\n",
            "  warnings.warn(\n",
            "/usr/local/lib/python3.10/dist-packages/statsbombpy/api_client.py:21: NoAuthWarning: credentials were not supplied. open data access only\n",
            "  warnings.warn(\n",
            "/usr/local/lib/python3.10/dist-packages/statsbombpy/api_client.py:21: NoAuthWarning: credentials were not supplied. open data access only\n",
            "  warnings.warn(\n",
            "/usr/local/lib/python3.10/dist-packages/statsbombpy/api_client.py:21: NoAuthWarning: credentials were not supplied. open data access only\n",
            "  warnings.warn(\n",
            "/usr/local/lib/python3.10/dist-packages/statsbombpy/api_client.py:21: NoAuthWarning: credentials were not supplied. open data access only\n",
            "  warnings.warn(\n",
            "/usr/local/lib/python3.10/dist-packages/statsbombpy/api_client.py:21: NoAuthWarning: credentials were not supplied. open data access only\n",
            "  warnings.warn(\n",
            "/usr/local/lib/python3.10/dist-packages/statsbombpy/api_client.py:21: NoAuthWarning: credentials were not supplied. open data access only\n",
            "  warnings.warn(\n",
            "/usr/local/lib/python3.10/dist-packages/statsbombpy/api_client.py:21: NoAuthWarning: credentials were not supplied. open data access only\n",
            "  warnings.warn(\n",
            "/usr/local/lib/python3.10/dist-packages/statsbombpy/api_client.py:21: NoAuthWarning: credentials were not supplied. open data access only\n",
            "  warnings.warn(\n",
            "/usr/local/lib/python3.10/dist-packages/statsbombpy/api_client.py:21: NoAuthWarning: credentials were not supplied. open data access only\n",
            "  warnings.warn(\n",
            "/usr/local/lib/python3.10/dist-packages/statsbombpy/api_client.py:21: NoAuthWarning: credentials were not supplied. open data access only\n",
            "  warnings.warn(\n",
            "/usr/local/lib/python3.10/dist-packages/statsbombpy/api_client.py:21: NoAuthWarning: credentials were not supplied. open data access only\n",
            "  warnings.warn(\n",
            "/usr/local/lib/python3.10/dist-packages/statsbombpy/api_client.py:21: NoAuthWarning: credentials were not supplied. open data access only\n",
            "  warnings.warn(\n",
            "/usr/local/lib/python3.10/dist-packages/statsbombpy/api_client.py:21: NoAuthWarning: credentials were not supplied. open data access only\n",
            "  warnings.warn(\n",
            "/usr/local/lib/python3.10/dist-packages/statsbombpy/api_client.py:21: NoAuthWarning: credentials were not supplied. open data access only\n",
            "  warnings.warn(\n",
            "/usr/local/lib/python3.10/dist-packages/statsbombpy/api_client.py:21: NoAuthWarning: credentials were not supplied. open data access only\n",
            "  warnings.warn(\n",
            "/usr/local/lib/python3.10/dist-packages/statsbombpy/api_client.py:21: NoAuthWarning: credentials were not supplied. open data access only\n",
            "  warnings.warn(\n",
            "/usr/local/lib/python3.10/dist-packages/statsbombpy/api_client.py:21: NoAuthWarning: credentials were not supplied. open data access only\n",
            "  warnings.warn(\n",
            "/usr/local/lib/python3.10/dist-packages/statsbombpy/api_client.py:21: NoAuthWarning: credentials were not supplied. open data access only\n",
            "  warnings.warn(\n",
            "/usr/local/lib/python3.10/dist-packages/statsbombpy/api_client.py:21: NoAuthWarning: credentials were not supplied. open data access only\n",
            "  warnings.warn(\n",
            "/usr/local/lib/python3.10/dist-packages/statsbombpy/api_client.py:21: NoAuthWarning: credentials were not supplied. open data access only\n",
            "  warnings.warn(\n",
            "/usr/local/lib/python3.10/dist-packages/statsbombpy/api_client.py:21: NoAuthWarning: credentials were not supplied. open data access only\n",
            "  warnings.warn(\n",
            "/usr/local/lib/python3.10/dist-packages/statsbombpy/api_client.py:21: NoAuthWarning: credentials were not supplied. open data access only\n",
            "  warnings.warn(\n",
            "/usr/local/lib/python3.10/dist-packages/statsbombpy/api_client.py:21: NoAuthWarning: credentials were not supplied. open data access only\n",
            "  warnings.warn(\n",
            "/usr/local/lib/python3.10/dist-packages/statsbombpy/api_client.py:21: NoAuthWarning: credentials were not supplied. open data access only\n",
            "  warnings.warn(\n",
            "/usr/local/lib/python3.10/dist-packages/statsbombpy/api_client.py:21: NoAuthWarning: credentials were not supplied. open data access only\n",
            "  warnings.warn(\n",
            "/usr/local/lib/python3.10/dist-packages/statsbombpy/api_client.py:21: NoAuthWarning: credentials were not supplied. open data access only\n",
            "  warnings.warn(\n"
          ]
        }
      ]
    },
    {
      "cell_type": "code",
      "source": [
        "# Feature Engineering\n",
        "def create_player_features(event_data):\n",
        "    # Example of some features to extract\n",
        "    event_data['pass_complete'] = event_data['pass_outcome'].apply(lambda x: 1 if x == 'Complete' else 0)\n",
        "    event_data['tackles'] = event_data['type'].apply(lambda x: 1 if x == 'Tackle' else 0)\n",
        "    event_data['shots'] = event_data['type'].apply(lambda x: 1 if x == 'Shot' else 0)\n",
        "    event_data['goals'] = event_data['shot_outcome'].apply(lambda x: 1 if x == 'Goal' else 0)\n",
        "    event_data['assists'] = event_data['pass_goal_assist'].apply(lambda x: 1 if x else 0)\n",
        "    event_data['fouls_committed'] = event_data['type'].apply(lambda x: 1 if x == 'Foul Committed' else 0)\n",
        "    event_data['interceptions'] = event_data['type'].apply(lambda x: 1 if x == 'Interception' else 0)\n",
        "\n",
        "    # Group by player and aggregate the features\n",
        "    player_stats = event_data.groupby('player_id').agg({\n",
        "        'pass_complete': 'sum',\n",
        "        'tackles': 'sum',\n",
        "        'shots': 'sum',\n",
        "        'goals': 'sum',\n",
        "        'assists': 'sum',\n",
        "        'fouls_committed': 'sum',\n",
        "        'interceptions': 'sum'\n",
        "    }).reset_index()\n",
        "\n",
        "    return player_stats\n",
        "\n",
        "player_stats = create_player_features(event_data)"
      ],
      "metadata": {
        "colab": {
          "base_uri": "https://localhost:8080/"
        },
        "id": "E-Rtj2fDjwzZ",
        "outputId": "ab3983d9-a268-4015-c146-2fb55117536f"
      },
      "execution_count": null,
      "outputs": [
        {
          "output_type": "stream",
          "name": "stderr",
          "text": [
            "<ipython-input-11-d11b57c25735>:4: PerformanceWarning: DataFrame is highly fragmented.  This is usually the result of calling `frame.insert` many times, which has poor performance.  Consider joining all columns at once using pd.concat(axis=1) instead. To get a de-fragmented frame, use `newframe = frame.copy()`\n",
            "  event_data['pass_complete'] = event_data['pass_outcome'].apply(lambda x: 1 if x == 'Complete' else 0)\n",
            "<ipython-input-11-d11b57c25735>:5: PerformanceWarning: DataFrame is highly fragmented.  This is usually the result of calling `frame.insert` many times, which has poor performance.  Consider joining all columns at once using pd.concat(axis=1) instead. To get a de-fragmented frame, use `newframe = frame.copy()`\n",
            "  event_data['tackles'] = event_data['type'].apply(lambda x: 1 if x == 'Tackle' else 0)\n",
            "<ipython-input-11-d11b57c25735>:6: PerformanceWarning: DataFrame is highly fragmented.  This is usually the result of calling `frame.insert` many times, which has poor performance.  Consider joining all columns at once using pd.concat(axis=1) instead. To get a de-fragmented frame, use `newframe = frame.copy()`\n",
            "  event_data['shots'] = event_data['type'].apply(lambda x: 1 if x == 'Shot' else 0)\n",
            "<ipython-input-11-d11b57c25735>:7: PerformanceWarning: DataFrame is highly fragmented.  This is usually the result of calling `frame.insert` many times, which has poor performance.  Consider joining all columns at once using pd.concat(axis=1) instead. To get a de-fragmented frame, use `newframe = frame.copy()`\n",
            "  event_data['goals'] = event_data['shot_outcome'].apply(lambda x: 1 if x == 'Goal' else 0)\n",
            "<ipython-input-11-d11b57c25735>:8: PerformanceWarning: DataFrame is highly fragmented.  This is usually the result of calling `frame.insert` many times, which has poor performance.  Consider joining all columns at once using pd.concat(axis=1) instead. To get a de-fragmented frame, use `newframe = frame.copy()`\n",
            "  event_data['assists'] = event_data['pass_goal_assist'].apply(lambda x: 1 if x else 0)\n",
            "<ipython-input-11-d11b57c25735>:9: PerformanceWarning: DataFrame is highly fragmented.  This is usually the result of calling `frame.insert` many times, which has poor performance.  Consider joining all columns at once using pd.concat(axis=1) instead. To get a de-fragmented frame, use `newframe = frame.copy()`\n",
            "  event_data['fouls_committed'] = event_data['type'].apply(lambda x: 1 if x == 'Foul Committed' else 0)\n",
            "<ipython-input-11-d11b57c25735>:10: PerformanceWarning: DataFrame is highly fragmented.  This is usually the result of calling `frame.insert` many times, which has poor performance.  Consider joining all columns at once using pd.concat(axis=1) instead. To get a de-fragmented frame, use `newframe = frame.copy()`\n",
            "  event_data['interceptions'] = event_data['type'].apply(lambda x: 1 if x == 'Interception' else 0)\n"
          ]
        }
      ]
    },
    {
      "cell_type": "code",
      "source": [
        "def apply_weights(event_data, player_stats, matches):\n",
        "    # Merge event_data with match outcomes using match_id\n",
        "    event_data = event_data.merge(matches[['match_id', 'home_score', 'away_score', 'home_team', 'away_team']], on='match_id', how='left')\n",
        "\n",
        "    # Determine if the player was on the winning or losing team\n",
        "    event_data['team_won'] = event_data.apply(\n",
        "        lambda row: 1 if (row['team'] == row['home_team'] and row['home_score'] > row['away_score']) or\n",
        "                          (row['team'] == row['away_team'] and row['away_score'] > row['home_score'])\n",
        "                          else 0, axis=1)\n",
        "\n",
        "    event_data['team_lost'] = event_data.apply(\n",
        "        lambda row: 1 if (row['team'] == row['home_team'] and row['home_score'] < row['away_score']) or\n",
        "                          (row['team'] == row['away_team'] and row['away_score'] < row['home_score'])\n",
        "                          else 0, axis=1)\n",
        "\n",
        "    # Apply weights to player statistics\n",
        "    player_stats['weighted_passes'] = player_stats['pass_complete'] * event_data['team_won'].mean()\n",
        "    player_stats['weighted_tackles'] = player_stats['tackles'] * event_data['team_won'].mean()\n",
        "    player_stats['weighted_shots'] = player_stats['shots'] * event_data['team_won'].mean()\n",
        "    player_stats['weighted_goals'] = player_stats['goals'] * event_data['team_won'].mean()\n",
        "    player_stats['weighted_assists'] = player_stats['assists'] * event_data['team_won'].mean()\n",
        "    player_stats['weighted_fouls'] = player_stats['fouls_committed'] * event_data['team_lost'].mean()\n",
        "    player_stats['weighted_interceptions'] = player_stats['interceptions'] * event_data['team_won'].mean()\n",
        "\n",
        "    return player_stats\n",
        "\n",
        "# Assuming player_stats is already computed\n",
        "player_stats = apply_weights(event_data, player_stats, matches)"
      ],
      "metadata": {
        "id": "vezukG67jz6m"
      },
      "execution_count": null,
      "outputs": []
    },
    {
      "cell_type": "code",
      "source": [
        "# Create a synthetic player rating based on weighted features\n",
        "player_stats['rating'] = player_stats[['weighted_passes', 'weighted_tackles', 'weighted_shots',\n",
        "                                       'weighted_goals', 'weighted_assists',\n",
        "                                       'weighted_fouls', 'weighted_interceptions']].sum(axis=1)\n",
        "\n",
        "# Normalize the ratings to a 0-10 scale\n",
        "player_stats['rating'] = 10 * (player_stats['rating'] / player_stats['rating'].max())\n",
        "\n",
        "# Prepare the features and labels\n",
        "X = player_stats[['weighted_passes', 'weighted_tackles', 'weighted_shots',\n",
        "                  'weighted_goals', 'weighted_assists',\n",
        "                  'weighted_fouls', 'weighted_interceptions']]\n",
        "y = player_stats['rating']\n",
        "\n",
        "# Split the data into training and testing sets\n",
        "X_train, X_test, y_train, y_test = train_test_split(X, y, test_size=0.2, random_state=42)\n",
        "\n",
        "# Train the RandomForest model\n",
        "model = RandomForestRegressor(n_estimators=100, random_state=42)\n",
        "model.fit(X_train, y_train)\n",
        "\n",
        "# Evaluate the model\n",
        "y_pred = model.predict(X_test)\n",
        "mse = mean_squared_error(y_test, y_pred)\n",
        "r2 = r2_score(y_test, y_pred)\n",
        "\n",
        "print(f'Mean Squared Error: {mse}')\n",
        "print(f'R-squared: {r2}')"
      ],
      "metadata": {
        "colab": {
          "base_uri": "https://localhost:8080/"
        },
        "id": "v-25UaWuj20d",
        "outputId": "f4edaea0-df44-45fc-b1a4-612f85fda8f8"
      },
      "execution_count": null,
      "outputs": [
        {
          "output_type": "stream",
          "name": "stdout",
          "text": [
            "Mean Squared Error: 0.3480067449417202\n",
            "R-squared: 0.9010126367325975\n"
          ]
        }
      ]
    }
  ]
}