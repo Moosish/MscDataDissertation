{
  "nbformat": 4,
  "nbformat_minor": 0,
  "metadata": {
    "colab": {
      "provenance": []
    },
    "kernelspec": {
      "name": "python3",
      "display_name": "Python 3"
    },
    "language_info": {
      "name": "python"
    }
  },
  "cells": [
    {
      "cell_type": "code",
      "execution_count": null,
      "metadata": {
        "colab": {
          "base_uri": "https://localhost:8080/"
        },
        "id": "ws92_4KLX45x",
        "outputId": "9c37b079-1937-4dcc-e8d2-ef278c6a5c3d"
      },
      "outputs": [
        {
          "output_type": "stream",
          "name": "stdout",
          "text": [
            "Updated property [core/project].\n"
          ]
        }
      ],
      "source": [
        "from google.colab import auth\n",
        "auth.authenticate_user()\n",
        "\n",
        "project_id = \"polar-ensign-432610-t7\"\n",
        "!gcloud config set project {project_id}"
      ]
    },
    {
      "cell_type": "code",
      "source": [
        "!pip install google-cloud-bigquery pandas scikit-learn Flask joblib flask-cors"
      ],
      "metadata": {
        "colab": {
          "base_uri": "https://localhost:8080/"
        },
        "id": "2VOMHlMkYui7",
        "outputId": "dcd9fbb3-376f-4639-b9de-950d157ebd82"
      },
      "execution_count": null,
      "outputs": [
        {
          "output_type": "stream",
          "name": "stdout",
          "text": [
            "Requirement already satisfied: google-cloud-bigquery in /usr/local/lib/python3.10/dist-packages (3.25.0)\n",
            "Requirement already satisfied: pandas in /usr/local/lib/python3.10/dist-packages (2.1.4)\n",
            "Requirement already satisfied: scikit-learn in /usr/local/lib/python3.10/dist-packages (1.3.2)\n",
            "Requirement already satisfied: Flask in /usr/local/lib/python3.10/dist-packages (2.2.5)\n",
            "Requirement already satisfied: joblib in /usr/local/lib/python3.10/dist-packages (1.4.2)\n",
            "Collecting flask-cors\n",
            "  Downloading Flask_Cors-4.0.1-py2.py3-none-any.whl.metadata (5.5 kB)\n",
            "Requirement already satisfied: google-api-core!=2.0.*,!=2.1.*,!=2.10.*,!=2.2.*,!=2.3.*,!=2.4.*,!=2.5.*,!=2.6.*,!=2.7.*,!=2.8.*,!=2.9.*,<3.0.0dev,>=1.34.1 in /usr/local/lib/python3.10/dist-packages (from google-api-core[grpc]!=2.0.*,!=2.1.*,!=2.10.*,!=2.2.*,!=2.3.*,!=2.4.*,!=2.5.*,!=2.6.*,!=2.7.*,!=2.8.*,!=2.9.*,<3.0.0dev,>=1.34.1->google-cloud-bigquery) (2.19.1)\n",
            "Requirement already satisfied: google-auth<3.0.0dev,>=2.14.1 in /usr/local/lib/python3.10/dist-packages (from google-cloud-bigquery) (2.27.0)\n",
            "Requirement already satisfied: google-cloud-core<3.0.0dev,>=1.6.0 in /usr/local/lib/python3.10/dist-packages (from google-cloud-bigquery) (2.4.1)\n",
            "Requirement already satisfied: google-resumable-media<3.0dev,>=0.6.0 in /usr/local/lib/python3.10/dist-packages (from google-cloud-bigquery) (2.7.2)\n",
            "Requirement already satisfied: packaging>=20.0.0 in /usr/local/lib/python3.10/dist-packages (from google-cloud-bigquery) (24.1)\n",
            "Requirement already satisfied: python-dateutil<3.0dev,>=2.7.2 in /usr/local/lib/python3.10/dist-packages (from google-cloud-bigquery) (2.8.2)\n",
            "Requirement already satisfied: requests<3.0.0dev,>=2.21.0 in /usr/local/lib/python3.10/dist-packages (from google-cloud-bigquery) (2.32.3)\n",
            "Requirement already satisfied: numpy<2,>=1.22.4 in /usr/local/lib/python3.10/dist-packages (from pandas) (1.26.4)\n",
            "Requirement already satisfied: pytz>=2020.1 in /usr/local/lib/python3.10/dist-packages (from pandas) (2024.1)\n",
            "Requirement already satisfied: tzdata>=2022.1 in /usr/local/lib/python3.10/dist-packages (from pandas) (2024.1)\n",
            "Requirement already satisfied: scipy>=1.5.0 in /usr/local/lib/python3.10/dist-packages (from scikit-learn) (1.13.1)\n",
            "Requirement already satisfied: threadpoolctl>=2.0.0 in /usr/local/lib/python3.10/dist-packages (from scikit-learn) (3.5.0)\n",
            "Requirement already satisfied: Werkzeug>=2.2.2 in /usr/local/lib/python3.10/dist-packages (from Flask) (3.0.4)\n",
            "Requirement already satisfied: Jinja2>=3.0 in /usr/local/lib/python3.10/dist-packages (from Flask) (3.1.4)\n",
            "Requirement already satisfied: itsdangerous>=2.0 in /usr/local/lib/python3.10/dist-packages (from Flask) (2.2.0)\n",
            "Requirement already satisfied: click>=8.0 in /usr/local/lib/python3.10/dist-packages (from Flask) (8.1.7)\n",
            "Requirement already satisfied: googleapis-common-protos<2.0.dev0,>=1.56.2 in /usr/local/lib/python3.10/dist-packages (from google-api-core!=2.0.*,!=2.1.*,!=2.10.*,!=2.2.*,!=2.3.*,!=2.4.*,!=2.5.*,!=2.6.*,!=2.7.*,!=2.8.*,!=2.9.*,<3.0.0dev,>=1.34.1->google-api-core[grpc]!=2.0.*,!=2.1.*,!=2.10.*,!=2.2.*,!=2.3.*,!=2.4.*,!=2.5.*,!=2.6.*,!=2.7.*,!=2.8.*,!=2.9.*,<3.0.0dev,>=1.34.1->google-cloud-bigquery) (1.63.2)\n",
            "Requirement already satisfied: protobuf!=3.20.0,!=3.20.1,!=4.21.0,!=4.21.1,!=4.21.2,!=4.21.3,!=4.21.4,!=4.21.5,<6.0.0.dev0,>=3.19.5 in /usr/local/lib/python3.10/dist-packages (from google-api-core!=2.0.*,!=2.1.*,!=2.10.*,!=2.2.*,!=2.3.*,!=2.4.*,!=2.5.*,!=2.6.*,!=2.7.*,!=2.8.*,!=2.9.*,<3.0.0dev,>=1.34.1->google-api-core[grpc]!=2.0.*,!=2.1.*,!=2.10.*,!=2.2.*,!=2.3.*,!=2.4.*,!=2.5.*,!=2.6.*,!=2.7.*,!=2.8.*,!=2.9.*,<3.0.0dev,>=1.34.1->google-cloud-bigquery) (3.20.3)\n",
            "Requirement already satisfied: proto-plus<2.0.0dev,>=1.22.3 in /usr/local/lib/python3.10/dist-packages (from google-api-core!=2.0.*,!=2.1.*,!=2.10.*,!=2.2.*,!=2.3.*,!=2.4.*,!=2.5.*,!=2.6.*,!=2.7.*,!=2.8.*,!=2.9.*,<3.0.0dev,>=1.34.1->google-api-core[grpc]!=2.0.*,!=2.1.*,!=2.10.*,!=2.2.*,!=2.3.*,!=2.4.*,!=2.5.*,!=2.6.*,!=2.7.*,!=2.8.*,!=2.9.*,<3.0.0dev,>=1.34.1->google-cloud-bigquery) (1.24.0)\n",
            "Requirement already satisfied: grpcio<2.0dev,>=1.33.2 in /usr/local/lib/python3.10/dist-packages (from google-api-core[grpc]!=2.0.*,!=2.1.*,!=2.10.*,!=2.2.*,!=2.3.*,!=2.4.*,!=2.5.*,!=2.6.*,!=2.7.*,!=2.8.*,!=2.9.*,<3.0.0dev,>=1.34.1->google-cloud-bigquery) (1.64.1)\n",
            "Requirement already satisfied: grpcio-status<2.0.dev0,>=1.33.2 in /usr/local/lib/python3.10/dist-packages (from google-api-core[grpc]!=2.0.*,!=2.1.*,!=2.10.*,!=2.2.*,!=2.3.*,!=2.4.*,!=2.5.*,!=2.6.*,!=2.7.*,!=2.8.*,!=2.9.*,<3.0.0dev,>=1.34.1->google-cloud-bigquery) (1.48.2)\n",
            "Requirement already satisfied: cachetools<6.0,>=2.0.0 in /usr/local/lib/python3.10/dist-packages (from google-auth<3.0.0dev,>=2.14.1->google-cloud-bigquery) (5.5.0)\n",
            "Requirement already satisfied: pyasn1-modules>=0.2.1 in /usr/local/lib/python3.10/dist-packages (from google-auth<3.0.0dev,>=2.14.1->google-cloud-bigquery) (0.4.0)\n",
            "Requirement already satisfied: rsa<5,>=3.1.4 in /usr/local/lib/python3.10/dist-packages (from google-auth<3.0.0dev,>=2.14.1->google-cloud-bigquery) (4.9)\n",
            "Requirement already satisfied: google-crc32c<2.0dev,>=1.0 in /usr/local/lib/python3.10/dist-packages (from google-resumable-media<3.0dev,>=0.6.0->google-cloud-bigquery) (1.5.0)\n",
            "Requirement already satisfied: MarkupSafe>=2.0 in /usr/local/lib/python3.10/dist-packages (from Jinja2>=3.0->Flask) (2.1.5)\n",
            "Requirement already satisfied: six>=1.5 in /usr/local/lib/python3.10/dist-packages (from python-dateutil<3.0dev,>=2.7.2->google-cloud-bigquery) (1.16.0)\n",
            "Requirement already satisfied: charset-normalizer<4,>=2 in /usr/local/lib/python3.10/dist-packages (from requests<3.0.0dev,>=2.21.0->google-cloud-bigquery) (3.3.2)\n",
            "Requirement already satisfied: idna<4,>=2.5 in /usr/local/lib/python3.10/dist-packages (from requests<3.0.0dev,>=2.21.0->google-cloud-bigquery) (3.7)\n",
            "Requirement already satisfied: urllib3<3,>=1.21.1 in /usr/local/lib/python3.10/dist-packages (from requests<3.0.0dev,>=2.21.0->google-cloud-bigquery) (2.0.7)\n",
            "Requirement already satisfied: certifi>=2017.4.17 in /usr/local/lib/python3.10/dist-packages (from requests<3.0.0dev,>=2.21.0->google-cloud-bigquery) (2024.7.4)\n",
            "Requirement already satisfied: pyasn1<0.7.0,>=0.4.6 in /usr/local/lib/python3.10/dist-packages (from pyasn1-modules>=0.2.1->google-auth<3.0.0dev,>=2.14.1->google-cloud-bigquery) (0.6.0)\n",
            "Downloading Flask_Cors-4.0.1-py2.py3-none-any.whl (14 kB)\n",
            "Installing collected packages: flask-cors\n",
            "Successfully installed flask-cors-4.0.1\n"
          ]
        }
      ]
    },
    {
      "cell_type": "code",
      "source": [
        "%%writefile app.py\n",
        "\n",
        "from flask import Flask, request, jsonify\n",
        "from flask_cors import CORS\n",
        "from google.cloud import bigquery\n",
        "import pandas as pd\n",
        "from sklearn.preprocessing import StandardScaler\n",
        "from sklearn.cluster import KMeans\n",
        "from sklearn.metrics import pairwise_distances\n",
        "from sklearn.impute import SimpleImputer\n",
        "\n",
        "app = Flask(__name__)\n",
        "CORS(app)  # Enable CORS for all routes\n",
        "\n",
        "# Set up BigQuery client\n",
        "client = bigquery.Client()\n",
        "\n",
        "def fetch_player_data():\n",
        "    query = \"\"\"\n",
        "    SELECT\n",
        "        Player, Pos AS Position,\n",
        "        `Per 90 Minutes - Gls` AS `Goals per 90`,\n",
        "        `Per 90 Minutes - Ast` AS `Assists per 90`,\n",
        "        `Standard - Sh_90` AS `Shots per 90`,\n",
        "        `Standard - SoT_90` AS `Shots on Target per 90`,\n",
        "        `Total - Cmp%` AS `Pass Completion %`,\n",
        "        `Take-Ons - Succ%` AS `Dribbles Completed per 90`,\n",
        "        `Tackles - TklW` AS `Tackles Won per 90`,\n",
        "        `Int` AS `Interceptions per 90`,\n",
        "        `Challenges - Tkl%` AS `Aerial Duels Won per 90`\n",
        "    FROM `polar-ensign-432610-t7.squadsight_scouting.2023-2024`\n",
        "    WHERE Pos IS NOT NULL\n",
        "    \"\"\"\n",
        "\n",
        "    query_job = client.query(query)\n",
        "    df = query_job.to_dataframe()\n",
        "\n",
        "    # Log the DataFrame to inspect if data is fetched correctly\n",
        "    if df is None or df.empty:\n",
        "        print(\"No data fetched from BigQuery.\")\n",
        "    else:\n",
        "        print(f\"Fetched {len(df)} rows from BigQuery.\")\n",
        "\n",
        "    return df\n",
        "\n",
        "\n",
        "# Preprocess data\n",
        "def preprocess_data(df):\n",
        "    rank_columns = [\n",
        "        'Goals per 90', 'Assists per 90', 'Shots per 90', 'Shots on Target per 90',\n",
        "        'Pass Completion %', 'Dribbles Completed per 90', 'Tackles Won per 90',\n",
        "        'Interceptions per 90', 'Aerial Duels Won per 90'\n",
        "    ]\n",
        "\n",
        "    # Impute missing values\n",
        "    imputer = SimpleImputer(strategy='mean')\n",
        "    df[rank_columns] = imputer.fit_transform(df[rank_columns])\n",
        "\n",
        "    # Scale the data\n",
        "    scaler = StandardScaler()\n",
        "    scaled_data = scaler.fit_transform(df[rank_columns])\n",
        "\n",
        "    # Apply K-means clustering\n",
        "    kmeans = KMeans(n_clusters=10, random_state=42)\n",
        "    df['Cluster'] = kmeans.fit_predict(scaled_data)\n",
        "\n",
        "    return df, rank_columns\n",
        "\n",
        "# Fetch player_id from BigQuery based on player name\n",
        "def fetch_player_ids(player_names):\n",
        "    placeholders = ', '.join(['@name' + str(i) for i in range(len(player_names))])\n",
        "    query = f\"\"\"\n",
        "    SELECT player_id, name\n",
        "    FROM `polar-ensign-432610-t7.transfermarkt.players`\n",
        "    WHERE name IN ({placeholders})\n",
        "    \"\"\"\n",
        "    query_params = {f'name{i}': name for i, name in enumerate(player_names)}\n",
        "\n",
        "    query_job = client.query(query, job_config=bigquery.QueryJobConfig(\n",
        "        query_parameters=[bigquery.ScalarQueryParameter(name, \"STRING\", value)\n",
        "                          for name, value in query_params.items()]\n",
        "    ))\n",
        "\n",
        "    results = query_job.to_dataframe()\n",
        "    return results\n",
        "\n",
        "# Endpoint to find similar players\n",
        "@app.route('/similar-players', methods=['GET'])\n",
        "def find_similar_players():\n",
        "    player_name = request.args.get('player_name')\n",
        "    num_similar = int(request.args.get('num_similar', 5))\n",
        "\n",
        "    # Fetch and preprocess data\n",
        "    df = fetch_player_data()\n",
        "    df, rank_columns = preprocess_data(df)\n",
        "\n",
        "    if player_name not in df['Player'].values:\n",
        "        return jsonify({\"error\": \"Player not found\"}), 404\n",
        "\n",
        "    # Find similar players\n",
        "    player_data = df[df['Player'] == player_name]\n",
        "    position = player_data['Position'].values[0]\n",
        "    cluster = player_data['Cluster'].values[0]\n",
        "\n",
        "    same_position_cluster = df[(df['Position'] == position) & (df['Cluster'] == cluster)]\n",
        "    distances = pairwise_distances(player_data[rank_columns], same_position_cluster[rank_columns])\n",
        "\n",
        "    same_position_cluster['Distance'] = distances.flatten()\n",
        "    similar_players = same_position_cluster.nsmallest(num_similar + 1, 'Distance')\n",
        "    similar_players = similar_players[similar_players['Player'] != player_name]\n",
        "\n",
        "    # Fetch player_ids for the similar players\n",
        "    similar_player_names = similar_players['Player'].tolist()\n",
        "    player_ids_df = fetch_player_ids(similar_player_names)\n",
        "\n",
        "    # Merge player names with their IDs\n",
        "    merged_data = pd.merge(similar_players, player_ids_df, left_on='Player', right_on='name', how='left')\n",
        "    result = merged_data[['Player', 'player_id']].to_dict(orient='records')\n",
        "\n",
        "    # Return the results\n",
        "    return jsonify(result)\n",
        "\n",
        "if __name__ == '__main__':\n",
        "    app.run(host='0.0.0.0', port=8080)\n"
      ],
      "metadata": {
        "colab": {
          "base_uri": "https://localhost:8080/"
        },
        "id": "Cn_amXoGexF7",
        "outputId": "9ff2a322-5878-41bf-bee3-7726e3991d88"
      },
      "execution_count": null,
      "outputs": [
        {
          "output_type": "stream",
          "name": "stdout",
          "text": [
            "Writing app.py\n"
          ]
        }
      ]
    },
    {
      "cell_type": "code",
      "source": [
        "%%writefile requirements.txt\n",
        "Flask\n",
        "google-cloud-bigquery\n",
        "pandas\n",
        "scikit-learn\n",
        "db-dtypes\n",
        "flask-cors"
      ],
      "metadata": {
        "colab": {
          "base_uri": "https://localhost:8080/"
        },
        "id": "J9pnqsyifQCO",
        "outputId": "38c4d3f9-89ba-4080-8f73-48f4599b0723"
      },
      "execution_count": null,
      "outputs": [
        {
          "output_type": "stream",
          "name": "stdout",
          "text": [
            "Writing requirements.txt\n"
          ]
        }
      ]
    },
    {
      "cell_type": "code",
      "source": [
        "%%writefile Dockerfile\n",
        "# Use an official Python runtime as a parent image\n",
        "FROM python:3.8-slim\n",
        "\n",
        "# Set the working directory in the container\n",
        "WORKDIR /app\n",
        "\n",
        "# Copy the current directory contents into the container at /app\n",
        "COPY . /app\n",
        "\n",
        "# Install any needed packages specified in requirements.txt\n",
        "RUN pip install --no-cache-dir -r requirements.txt\n",
        "\n",
        "# Make port 8080 available to the world outside this container\n",
        "EXPOSE 8080\n",
        "\n",
        "# Run app.py when the container launches\n",
        "CMD [\"python\", \"app.py\"]"
      ],
      "metadata": {
        "colab": {
          "base_uri": "https://localhost:8080/"
        },
        "id": "YcfgsI-HfUNg",
        "outputId": "16159301-9f3a-41c1-afca-ae16f5311196"
      },
      "execution_count": null,
      "outputs": [
        {
          "output_type": "stream",
          "name": "stdout",
          "text": [
            "Overwriting Dockerfile\n"
          ]
        }
      ]
    },
    {
      "cell_type": "code",
      "source": [
        "from google.colab import auth\n",
        "auth.authenticate_user()"
      ],
      "metadata": {
        "id": "Ar3Aywc1fXlr"
      },
      "execution_count": null,
      "outputs": []
    },
    {
      "cell_type": "code",
      "source": [
        "!gcloud auth login\n",
        "!gcloud config set project polar-ensign-432610-t7"
      ],
      "metadata": {
        "colab": {
          "base_uri": "https://localhost:8080/"
        },
        "id": "P-xKc7lFfZo6",
        "outputId": "16ed71b1-5837-40c3-f587-b6ae5efa19b0"
      },
      "execution_count": null,
      "outputs": [
        {
          "output_type": "stream",
          "name": "stdout",
          "text": [
            "\n",
            "You are running on a Google Compute Engine virtual machine.\n",
            "It is recommended that you use service accounts for authentication.\n",
            "\n",
            "You can run:\n",
            "\n",
            "  $ gcloud config set account `ACCOUNT`\n",
            "\n",
            "to switch accounts if necessary.\n",
            "\n",
            "Your credentials may be visible to others with access to this\n",
            "virtual machine. Are you sure you want to authenticate with\n",
            "your personal account?\n",
            "\n",
            "Do you want to continue (Y/n)?  T\n",
            "Please enter 'y' or 'n':  Y\n",
            "\n",
            "Go to the following link in your browser, and complete the sign-in prompts:\n",
            "\n",
            "    https://accounts.google.com/o/oauth2/auth?response_type=code&client_id=32555940559.apps.googleusercontent.com&redirect_uri=https%3A%2F%2Fsdk.cloud.google.com%2Fauthcode.html&scope=openid+https%3A%2F%2Fwww.googleapis.com%2Fauth%2Fuserinfo.email+https%3A%2F%2Fwww.googleapis.com%2Fauth%2Fcloud-platform+https%3A%2F%2Fwww.googleapis.com%2Fauth%2Fappengine.admin+https%3A%2F%2Fwww.googleapis.com%2Fauth%2Fsqlservice.login+https%3A%2F%2Fwww.googleapis.com%2Fauth%2Fcompute+https%3A%2F%2Fwww.googleapis.com%2Fauth%2Faccounts.reauth&state=ec5KIzijauJXzmQ5qw17W7j1M7x8JQ&prompt=consent&token_usage=remote&access_type=offline&code_challenge=BTzvEBblLDgAD3PFV287OfL-9bWtiCc61gcZAKFVVz4&code_challenge_method=S256\n",
            "\n",
            "Once finished, enter the verification code provided in your browser: 4/0AQlEd8yqIMWAja8YiGfwPh7K_55V-78CMqn05GOhHazKXPRrI772yoJtYWYonTd9P4hJ_g\n",
            "\n",
            "You are now logged in as [thomasgeorgepasley@gmail.com].\n",
            "Your current project is [polar-ensign-432610-t7].  You can change this setting by running:\n",
            "  $ gcloud config set project PROJECT_ID\n",
            "Updated property [core/project].\n"
          ]
        }
      ]
    },
    {
      "cell_type": "code",
      "source": [
        "!gcloud builds submit --tag gcr.io/polar-ensign-432610-t7/playerknn ."
      ],
      "metadata": {
        "colab": {
          "base_uri": "https://localhost:8080/"
        },
        "id": "hOyRi9gZfb9b",
        "outputId": "3ae5818b-d6a4-4d3f-fcdc-5ae1033f98cd"
      },
      "execution_count": null,
      "outputs": [
        {
          "output_type": "stream",
          "name": "stdout",
          "text": [
            "Creating temporary archive of 46 file(s) totalling 55.0 MiB before compression.\n",
            "Uploading tarball of [.] to [gs://polar-ensign-432610-t7_cloudbuild/source/1724764668.83668-abea27abb94f4f08a7337e9daf5f1ba3.tgz]\n",
            "Created [https://cloudbuild.googleapis.com/v1/projects/polar-ensign-432610-t7/locations/global/builds/715827e8-38a3-4053-90b4-c5cda90fc17a].\n",
            "Logs are available at [ https://console.cloud.google.com/cloud-build/builds/715827e8-38a3-4053-90b4-c5cda90fc17a?project=116084333061 ].\n",
            "Waiting for build to complete. Polling interval: 1 second(s).\n",
            " REMOTE BUILD OUTPUT\n",
            "starting build \"715827e8-38a3-4053-90b4-c5cda90fc17a\"\n",
            "\n",
            "FETCHSOURCE\n",
            "Fetching storage object: gs://polar-ensign-432610-t7_cloudbuild/source/1724764668.83668-abea27abb94f4f08a7337e9daf5f1ba3.tgz#1724764678817882\n",
            "Copying gs://polar-ensign-432610-t7_cloudbuild/source/1724764668.83668-abea27abb94f4f08a7337e9daf5f1ba3.tgz#1724764678817882...\n",
            "/ [1 files][  6.5 MiB/  6.5 MiB]                                                \n",
            "Operation completed over 1 objects/6.5 MiB.\n",
            "BUILD\n",
            "Already have image (with digest): gcr.io/cloud-builders/docker\n",
            "Sending build context to Docker daemon  57.76MB\n",
            "Step 1/6 : FROM python:3.8-slim\n",
            "3.8-slim: Pulling from library/python\n",
            "e4fff0779e6d: Already exists\n",
            "4a5c74102edc: Pulling fs layer\n",
            "8d7f4eef7e05: Pulling fs layer\n",
            "120a794db9c9: Pulling fs layer\n",
            "188f8c4ef238: Pulling fs layer\n",
            "188f8c4ef238: Waiting\n",
            "120a794db9c9: Verifying Checksum\n",
            "120a794db9c9: Download complete\n",
            "4a5c74102edc: Verifying Checksum\n",
            "4a5c74102edc: Download complete\n",
            "8d7f4eef7e05: Verifying Checksum\n",
            "8d7f4eef7e05: Download complete\n",
            "188f8c4ef238: Verifying Checksum\n",
            "188f8c4ef238: Download complete\n",
            "4a5c74102edc: Pull complete\n",
            "8d7f4eef7e05: Pull complete\n",
            "120a794db9c9: Pull complete\n",
            "188f8c4ef238: Pull complete\n",
            "Digest: sha256:f8b4609a66cdaa133fa57e2ca8e2f03de2ebb44ffefb4c0b8b2de782aefca4a1\n",
            "Status: Downloaded newer image for python:3.8-slim\n",
            " ---> e7fd04b8ffc7\n",
            "Step 2/6 : WORKDIR /app\n",
            " ---> Running in 25c491edc53e\n",
            "Removing intermediate container 25c491edc53e\n",
            " ---> ebe13bd9b784\n",
            "Step 3/6 : COPY . /app\n",
            " ---> 62aea81f0b13\n",
            "Step 4/6 : RUN pip install --no-cache-dir -r requirements.txt\n",
            " ---> Running in 2866b46e3049\n",
            "Collecting Flask\n",
            "  Downloading flask-3.0.3-py3-none-any.whl (101 kB)\n",
            "     ━━━━━━━━━━━━━━━━━━━━━━━━━━━━━━━━━━━━━━━ 101.7/101.7 kB 4.7 MB/s eta 0:00:00\n",
            "Collecting google-cloud-bigquery\n",
            "  Downloading google_cloud_bigquery-3.25.0-py2.py3-none-any.whl (239 kB)\n",
            "     ━━━━━━━━━━━━━━━━━━━━━━━━━━━━━━━━━━━━━━ 239.0/239.0 kB 17.2 MB/s eta 0:00:00\n",
            "Collecting pandas\n",
            "  Downloading pandas-2.0.3-cp38-cp38-manylinux_2_17_x86_64.manylinux2014_x86_64.whl (12.4 MB)\n",
            "     ━━━━━━━━━━━━━━━━━━━━━━━━━━━━━━━━━━━━━━━━ 12.4/12.4 MB 47.5 MB/s eta 0:00:00\n",
            "Collecting scikit-learn\n",
            "  Downloading scikit_learn-1.3.2-cp38-cp38-manylinux_2_17_x86_64.manylinux2014_x86_64.whl (11.1 MB)\n",
            "     ━━━━━━━━━━━━━━━━━━━━━━━━━━━━━━━━━━━━━━━ 11.1/11.1 MB 111.1 MB/s eta 0:00:00\n",
            "Collecting db-dtypes\n",
            "  Downloading db_dtypes-1.3.0-py2.py3-none-any.whl (17 kB)\n",
            "Collecting flask-cors\n",
            "  Downloading Flask_Cors-4.0.1-py2.py3-none-any.whl (14 kB)\n",
            "Collecting Werkzeug>=3.0.0\n",
            "  Downloading werkzeug-3.0.4-py3-none-any.whl (227 kB)\n",
            "     ━━━━━━━━━━━━━━━━━━━━━━━━━━━━━━━━━━━━━ 227.6/227.6 kB 177.4 MB/s eta 0:00:00\n",
            "Collecting blinker>=1.6.2\n",
            "  Downloading blinker-1.8.2-py3-none-any.whl (9.5 kB)\n",
            "Collecting click>=8.1.3\n",
            "  Downloading click-8.1.7-py3-none-any.whl (97 kB)\n",
            "     ━━━━━━━━━━━━━━━━━━━━━━━━━━━━━━━━━━━━━━━ 97.9/97.9 kB 154.2 MB/s eta 0:00:00\n",
            "Collecting importlib-metadata>=3.6.0\n",
            "  Downloading importlib_metadata-8.4.0-py3-none-any.whl (26 kB)\n",
            "Collecting itsdangerous>=2.1.2\n",
            "  Downloading itsdangerous-2.2.0-py3-none-any.whl (16 kB)\n",
            "Collecting Jinja2>=3.1.2\n",
            "  Downloading jinja2-3.1.4-py3-none-any.whl (133 kB)\n",
            "     ━━━━━━━━━━━━━━━━━━━━━━━━━━━━━━━━━━━━━ 133.3/133.3 kB 161.5 MB/s eta 0:00:00\n",
            "Collecting google-cloud-core<3.0.0dev,>=1.6.0\n",
            "  Downloading google_cloud_core-2.4.1-py2.py3-none-any.whl (29 kB)\n",
            "Collecting python-dateutil<3.0dev,>=2.7.2\n",
            "  Downloading python_dateutil-2.9.0.post0-py2.py3-none-any.whl (229 kB)\n",
            "     ━━━━━━━━━━━━━━━━━━━━━━━━━━━━━━━━━━━━━ 229.9/229.9 kB 162.4 MB/s eta 0:00:00\n",
            "Collecting google-resumable-media<3.0dev,>=0.6.0\n",
            "  Downloading google_resumable_media-2.7.2-py2.py3-none-any.whl (81 kB)\n",
            "     ━━━━━━━━━━━━━━━━━━━━━━━━━━━━━━━━━━━━━━━ 81.3/81.3 kB 161.0 MB/s eta 0:00:00\n",
            "Collecting packaging>=20.0.0\n",
            "  Downloading packaging-24.1-py3-none-any.whl (53 kB)\n",
            "     ━━━━━━━━━━━━━━━━━━━━━━━━━━━━━━━━━━━━━━━ 54.0/54.0 kB 137.5 MB/s eta 0:00:00\n",
            "Collecting google-auth<3.0.0dev,>=2.14.1\n",
            "  Downloading google_auth-2.34.0-py2.py3-none-any.whl (200 kB)\n",
            "     ━━━━━━━━━━━━━━━━━━━━━━━━━━━━━━━━━━━━━ 200.9/200.9 kB 162.8 MB/s eta 0:00:00\n",
            "Collecting google-api-core[grpc]!=2.0.*,!=2.1.*,!=2.10.*,!=2.2.*,!=2.3.*,!=2.4.*,!=2.5.*,!=2.6.*,!=2.7.*,!=2.8.*,!=2.9.*,<3.0.0dev,>=1.34.1\n",
            "  Downloading google_api_core-2.19.1-py3-none-any.whl (139 kB)\n",
            "     ━━━━━━━━━━━━━━━━━━━━━━━━━━━━━━━━━━━━━ 139.4/139.4 kB 104.7 MB/s eta 0:00:00\n",
            "Collecting requests<3.0.0dev,>=2.21.0\n",
            "  Downloading requests-2.32.3-py3-none-any.whl (64 kB)\n",
            "     ━━━━━━━━━━━━━━━━━━━━━━━━━━━━━━━━━━━━━━━ 64.9/64.9 kB 153.7 MB/s eta 0:00:00\n",
            "Collecting pytz>=2020.1\n",
            "  Downloading pytz-2024.1-py2.py3-none-any.whl (505 kB)\n",
            "     ━━━━━━━━━━━━━━━━━━━━━━━━━━━━━━━━━━━━━ 505.5/505.5 kB 178.9 MB/s eta 0:00:00\n",
            "Collecting tzdata>=2022.1\n",
            "  Downloading tzdata-2024.1-py2.py3-none-any.whl (345 kB)\n",
            "     ━━━━━━━━━━━━━━━━━━━━━━━━━━━━━━━━━━━━━ 345.4/345.4 kB 144.8 MB/s eta 0:00:00\n",
            "Collecting numpy>=1.20.3\n",
            "  Downloading numpy-1.24.4-cp38-cp38-manylinux_2_17_x86_64.manylinux2014_x86_64.whl (17.3 MB)\n",
            "     ━━━━━━━━━━━━━━━━━━━━━━━━━━━━━━━━━━━━━━━ 17.3/17.3 MB 151.9 MB/s eta 0:00:00\n",
            "Collecting scipy>=1.5.0\n",
            "  Downloading scipy-1.10.1-cp38-cp38-manylinux_2_17_x86_64.manylinux2014_x86_64.whl (34.5 MB)\n",
            "     ━━━━━━━━━━━━━━━━━━━━━━━━━━━━━━━━━━━━━━━ 34.5/34.5 MB 159.2 MB/s eta 0:00:00\n",
            "Collecting joblib>=1.1.1\n",
            "  Downloading joblib-1.4.2-py3-none-any.whl (301 kB)\n",
            "     ━━━━━━━━━━━━━━━━━━━━━━━━━━━━━━━━━━━━━ 301.8/301.8 kB 171.6 MB/s eta 0:00:00\n",
            "Collecting threadpoolctl>=2.0.0\n",
            "  Downloading threadpoolctl-3.5.0-py3-none-any.whl (18 kB)\n",
            "Collecting pyarrow>=3.0.0\n",
            "  Downloading pyarrow-17.0.0-cp38-cp38-manylinux_2_28_x86_64.whl (40.0 MB)\n",
            "     ━━━━━━━━━━━━━━━━━━━━━━━━━━━━━━━━━━━━━━━ 40.0/40.0 MB 156.9 MB/s eta 0:00:00\n",
            "Collecting googleapis-common-protos<2.0.dev0,>=1.56.2\n",
            "  Downloading googleapis_common_protos-1.64.0-py2.py3-none-any.whl (220 kB)\n",
            "     ━━━━━━━━━━━━━━━━━━━━━━━━━━━━━━━━━━━━━ 220.6/220.6 kB 172.9 MB/s eta 0:00:00\n",
            "Collecting proto-plus<2.0.0dev,>=1.22.3\n",
            "  Downloading proto_plus-1.24.0-py3-none-any.whl (50 kB)\n",
            "     ━━━━━━━━━━━━━━━━━━━━━━━━━━━━━━━━━━━━━━━ 50.1/50.1 kB 104.9 MB/s eta 0:00:00\n",
            "Collecting protobuf!=3.20.0,!=3.20.1,!=4.21.0,!=4.21.1,!=4.21.2,!=4.21.3,!=4.21.4,!=4.21.5,<6.0.0.dev0,>=3.19.5\n",
            "  Downloading protobuf-5.27.3-cp38-abi3-manylinux2014_x86_64.whl (309 kB)\n",
            "     ━━━━━━━━━━━━━━━━━━━━━━━━━━━━━━━━━━━━━ 309.3/309.3 kB 171.1 MB/s eta 0:00:00\n",
            "Collecting grpcio<2.0dev,>=1.33.2\n",
            "  Downloading grpcio-1.66.0-cp38-cp38-manylinux_2_17_x86_64.manylinux2014_x86_64.whl (5.8 MB)\n",
            "     ━━━━━━━━━━━━━━━━━━━━━━━━━━━━━━━━━━━━━━━━ 5.8/5.8 MB 163.4 MB/s eta 0:00:00\n",
            "Collecting grpcio-status<2.0.dev0,>=1.33.2\n",
            "  Downloading grpcio_status-1.66.0-py3-none-any.whl (14 kB)\n",
            "Collecting pyasn1-modules>=0.2.1\n",
            "  Downloading pyasn1_modules-0.4.0-py3-none-any.whl (181 kB)\n",
            "     ━━━━━━━━━━━━━━━━━━━━━━━━━━━━━━━━━━━━━ 181.2/181.2 kB 160.9 MB/s eta 0:00:00\n",
            "Collecting cachetools<6.0,>=2.0.0\n",
            "  Downloading cachetools-5.5.0-py3-none-any.whl (9.5 kB)\n",
            "Collecting rsa<5,>=3.1.4\n",
            "  Downloading rsa-4.9-py3-none-any.whl (34 kB)\n",
            "Collecting google-crc32c<2.0dev,>=1.0\n",
            "  Downloading google_crc32c-1.5.0-cp38-cp38-manylinux_2_17_x86_64.manylinux2014_x86_64.whl (32 kB)\n",
            "Collecting zipp>=0.5\n",
            "  Downloading zipp-3.20.1-py3-none-any.whl (9.0 kB)\n",
            "Collecting MarkupSafe>=2.0\n",
            "  Downloading MarkupSafe-2.1.5-cp38-cp38-manylinux_2_17_x86_64.manylinux2014_x86_64.whl (26 kB)\n",
            "Collecting six>=1.5\n",
            "  Downloading six-1.16.0-py2.py3-none-any.whl (11 kB)\n",
            "Collecting charset-normalizer<4,>=2\n",
            "  Downloading charset_normalizer-3.3.2-cp38-cp38-manylinux_2_17_x86_64.manylinux2014_x86_64.whl (141 kB)\n",
            "     ━━━━━━━━━━━━━━━━━━━━━━━━━━━━━━━━━━━━━ 141.1/141.1 kB 172.2 MB/s eta 0:00:00\n",
            "Collecting urllib3<3,>=1.21.1\n",
            "  Downloading urllib3-2.2.2-py3-none-any.whl (121 kB)\n",
            "     ━━━━━━━━━━━━━━━━━━━━━━━━━━━━━━━━━━━━━ 121.4/121.4 kB 164.9 MB/s eta 0:00:00\n",
            "Collecting idna<4,>=2.5\n",
            "  Downloading idna-3.8-py3-none-any.whl (66 kB)\n",
            "     ━━━━━━━━━━━━━━━━━━━━━━━━━━━━━━━━━━━━━━━ 66.9/66.9 kB 140.8 MB/s eta 0:00:00\n",
            "Collecting certifi>=2017.4.17\n",
            "  Downloading certifi-2024.7.4-py3-none-any.whl (162 kB)\n",
            "     ━━━━━━━━━━━━━━━━━━━━━━━━━━━━━━━━━━━━━ 163.0/163.0 kB 162.7 MB/s eta 0:00:00\n",
            "Collecting pyasn1<0.7.0,>=0.4.6\n",
            "  Downloading pyasn1-0.6.0-py2.py3-none-any.whl (85 kB)\n",
            "     ━━━━━━━━━━━━━━━━━━━━━━━━━━━━━━━━━━━━━━━ 85.3/85.3 kB 153.8 MB/s eta 0:00:00\n",
            "Installing collected packages: pytz, zipp, urllib3, tzdata, threadpoolctl, six, pyasn1, protobuf, packaging, numpy, MarkupSafe, joblib, itsdangerous, idna, grpcio, google-crc32c, click, charset-normalizer, certifi, cachetools, blinker, Werkzeug, scipy, rsa, requests, python-dateutil, pyasn1-modules, pyarrow, proto-plus, Jinja2, importlib-metadata, googleapis-common-protos, google-resumable-media, scikit-learn, pandas, grpcio-status, google-auth, Flask, google-api-core, flask-cors, db-dtypes, google-cloud-core, google-cloud-bigquery\n",
            "Successfully installed Flask-3.0.3 Jinja2-3.1.4 MarkupSafe-2.1.5 Werkzeug-3.0.4 blinker-1.8.2 cachetools-5.5.0 certifi-2024.7.4 charset-normalizer-3.3.2 click-8.1.7 db-dtypes-1.3.0 flask-cors-4.0.1 google-api-core-2.19.1 google-auth-2.34.0 google-cloud-bigquery-3.25.0 google-cloud-core-2.4.1 google-crc32c-1.5.0 google-resumable-media-2.7.2 googleapis-common-protos-1.64.0 grpcio-1.66.0 grpcio-status-1.66.0 idna-3.8 importlib-metadata-8.4.0 itsdangerous-2.2.0 joblib-1.4.2 numpy-1.24.4 packaging-24.1 pandas-2.0.3 proto-plus-1.24.0 protobuf-5.27.3 pyarrow-17.0.0 pyasn1-0.6.0 pyasn1-modules-0.4.0 python-dateutil-2.9.0.post0 pytz-2024.1 requests-2.32.3 rsa-4.9 scikit-learn-1.3.2 scipy-1.10.1 six-1.16.0 threadpoolctl-3.5.0 tzdata-2024.1 urllib3-2.2.2 zipp-3.20.1\n",
            "\u001b[91mWARNING: Running pip as the 'root' user can result in broken permissions and conflicting behaviour with the system package manager. It is recommended to use a virtual environment instead: https://pip.pypa.io/warnings/venv\n",
            "\u001b[0m\u001b[91m\n",
            "[notice] A new release of pip is available: 23.0.1 -> 24.2\n",
            "[notice] To update, run: pip install --upgrade pip\n",
            "\u001b[0mRemoving intermediate container 2866b46e3049\n",
            " ---> 69de1b46d9c7\n",
            "Step 5/6 : EXPOSE 8080\n",
            " ---> Running in b82c4765cba4\n",
            "Removing intermediate container b82c4765cba4\n",
            " ---> a220a5fd3073\n",
            "Step 6/6 : CMD [\"python\", \"app.py\"]\n",
            " ---> Running in 93cb57ffdc54\n",
            "Removing intermediate container 93cb57ffdc54\n",
            " ---> d684be405771\n",
            "Successfully built d684be405771\n",
            "Successfully tagged gcr.io/polar-ensign-432610-t7/playerknn:latest\n",
            "PUSH\n",
            "Pushing gcr.io/polar-ensign-432610-t7/playerknn\n",
            "The push refers to repository [gcr.io/polar-ensign-432610-t7/playerknn]\n",
            "4749a33625cc: Preparing\n",
            "109accafd54c: Preparing\n",
            "dccd596abd49: Preparing\n",
            "ea3ca52555d9: Preparing\n",
            "c051c8ddf0e4: Preparing\n",
            "3fd23da07c85: Preparing\n",
            "d459f4cb7e83: Preparing\n",
            "9853575bc4f9: Preparing\n",
            "d459f4cb7e83: Waiting\n",
            "9853575bc4f9: Waiting\n",
            "3fd23da07c85: Waiting\n",
            "c051c8ddf0e4: Layer already exists\n",
            "ea3ca52555d9: Layer already exists\n",
            "d459f4cb7e83: Layer already exists\n",
            "3fd23da07c85: Layer already exists\n",
            "9853575bc4f9: Layer already exists\n",
            "dccd596abd49: Pushed\n",
            "109accafd54c: Pushed\n",
            "4749a33625cc: Pushed\n",
            "latest: digest: sha256:95cb947143c43643f99de9dba7b3d6071370f898070ce0de22b8087c522a13b0 size: 2001\n",
            "DONE\n",
            "\n",
            "ID                                    CREATE_TIME                DURATION  SOURCE                                                                                               IMAGES                                             STATUS\n",
            "715827e8-38a3-4053-90b4-c5cda90fc17a  2024-08-27T13:17:59+00:00  1M29S     gs://polar-ensign-432610-t7_cloudbuild/source/1724764668.83668-abea27abb94f4f08a7337e9daf5f1ba3.tgz  gcr.io/polar-ensign-432610-t7/playerknn (+1 more)  SUCCESS\n"
          ]
        }
      ]
    },
    {
      "cell_type": "code",
      "source": [
        "!gcloud run deploy --image gcr.io/polar-ensign-432610-t7/playerknn --platform managed --region eu-west2 --allow-unauthenticated"
      ],
      "metadata": {
        "colab": {
          "base_uri": "https://localhost:8080/"
        },
        "id": "HPtr3lKWff9d",
        "outputId": "8cc3468b-60a1-4cb7-969f-cd4b34515c66"
      },
      "execution_count": null,
      "outputs": [
        {
          "output_type": "stream",
          "name": "stdout",
          "text": [
            "Service name (playerknn):  \n",
            "\n",
            "Command killed by keyboard interrupt\n",
            "\n",
            "^C\n"
          ]
        }
      ]
    },
    {
      "cell_type": "code",
      "source": [
        "from google.cloud import bigquery\n",
        "\n",
        "# Explicitly set the project ID\n",
        "client = bigquery.Client(project='polar-ensign-432610-t7')\n",
        "\n",
        "query = \"\"\"\n",
        "    SELECT\n",
        "        Player, Pos AS Position,\n",
        "        `Per 90 Minutes - Gls` AS `Goals per 90`,\n",
        "        `Per 90 Minutes - Ast` AS `Assists per 90`,\n",
        "        `Standard - Sh_90` AS `Shots per 90`,\n",
        "        `Standard - SoT_90` AS `Shots on Target per 90`,\n",
        "        `Total - Cmp%` AS `Pass Completion %`,\n",
        "        `Take-Ons - Succ%` AS `Dribbles Completed per 90`,\n",
        "        `Tackles - TklW` AS `Tackles Won per 90`,\n",
        "        `Int` AS `Interceptions per 90`,\n",
        "        `Challenges - Tkl%` AS `Aerial Duels Won per 90`\n",
        "    FROM `polar-ensign-432610-t7.squadsight_scouting.2023-2024`\n",
        "    WHERE Pos IS NOT NULL\n",
        "\"\"\"\n",
        "\n",
        "query_job = client.query(query)\n",
        "df = query_job.to_dataframe()\n",
        "\n",
        "print(df.head())"
      ],
      "metadata": {
        "colab": {
          "base_uri": "https://localhost:8080/"
        },
        "id": "x1Ntzez103mL",
        "outputId": "ee64ef17-c995-4d9d-ff76-0b0335f9aeca"
      },
      "execution_count": null,
      "outputs": [
        {
          "output_type": "stream",
          "name": "stdout",
          "text": [
            "               Player Position  Goals per 90  Assists per 90  Shots per 90  \\\n",
            "0  Tommaso Martinelli       GK           0.0             0.0           0.0   \n",
            "1     Aaron Cresswell    DF,FW           0.0             0.0           0.0   \n",
            "2      Aaron Ramsdale       GK           0.0             0.0           0.0   \n",
            "3          Alex Matos       MF           0.0             0.0           0.0   \n",
            "4         Alex Murphy    DF,FW           0.0             0.0           0.0   \n",
            "\n",
            "   Shots on Target per 90  Pass Completion %  Dribbles Completed per 90  \\\n",
            "0                     0.0                NaN                        NaN   \n",
            "1                     0.0               82.5                        0.0   \n",
            "2                     0.0               69.7                        NaN   \n",
            "3                     0.0                NaN                        NaN   \n",
            "4                     0.0              100.0                        NaN   \n",
            "\n",
            "   Tackles Won per 90  Interceptions per 90  Aerial Duels Won per 90  \n",
            "0                   0                     0                      NaN  \n",
            "1                   2                     3                     66.7  \n",
            "2                   0                     0                      NaN  \n",
            "3                   0                     0                      NaN  \n",
            "4                   1                     1                     50.0  \n"
          ]
        }
      ]
    },
    {
      "cell_type": "code",
      "source": [
        "pip install statsbombpy"
      ],
      "metadata": {
        "colab": {
          "base_uri": "https://localhost:8080/"
        },
        "id": "OAv2FVi-gnne",
        "outputId": "bd19fa41-d4fa-463b-cf25-6825d4d4af13"
      },
      "execution_count": null,
      "outputs": [
        {
          "output_type": "stream",
          "name": "stdout",
          "text": [
            "Collecting statsbombpy\n",
            "  Downloading statsbombpy-1.13.1-py3-none-any.whl.metadata (63 kB)\n",
            "\u001b[?25l     \u001b[90m━━━━━━━━━━━━━━━━━━━━━━━━━━━━━━━━━━━━━━━━\u001b[0m \u001b[32m0.0/63.6 kB\u001b[0m \u001b[31m?\u001b[0m eta \u001b[36m-:--:--\u001b[0m\r\u001b[2K     \u001b[90m━━━━━━━━━━━━━━━━━━━━━━━━━━━━━━━━━━━━━━━━\u001b[0m \u001b[32m63.6/63.6 kB\u001b[0m \u001b[31m1.9 MB/s\u001b[0m eta \u001b[36m0:00:00\u001b[0m\n",
            "\u001b[?25hRequirement already satisfied: pandas in /usr/local/lib/python3.10/dist-packages (from statsbombpy) (2.1.4)\n",
            "Requirement already satisfied: requests in /usr/local/lib/python3.10/dist-packages (from statsbombpy) (2.32.3)\n",
            "Collecting requests-cache (from statsbombpy)\n",
            "  Downloading requests_cache-1.2.1-py3-none-any.whl.metadata (9.9 kB)\n",
            "Requirement already satisfied: inflect in /usr/local/lib/python3.10/dist-packages (from statsbombpy) (7.3.1)\n",
            "Requirement already satisfied: joblib in /usr/local/lib/python3.10/dist-packages (from statsbombpy) (1.4.2)\n",
            "Requirement already satisfied: more-itertools>=8.5.0 in /usr/local/lib/python3.10/dist-packages (from inflect->statsbombpy) (10.3.0)\n",
            "Requirement already satisfied: typeguard>=4.0.1 in /usr/local/lib/python3.10/dist-packages (from inflect->statsbombpy) (4.3.0)\n",
            "Requirement already satisfied: numpy<2,>=1.22.4 in /usr/local/lib/python3.10/dist-packages (from pandas->statsbombpy) (1.26.4)\n",
            "Requirement already satisfied: python-dateutil>=2.8.2 in /usr/local/lib/python3.10/dist-packages (from pandas->statsbombpy) (2.8.2)\n",
            "Requirement already satisfied: pytz>=2020.1 in /usr/local/lib/python3.10/dist-packages (from pandas->statsbombpy) (2024.1)\n",
            "Requirement already satisfied: tzdata>=2022.1 in /usr/local/lib/python3.10/dist-packages (from pandas->statsbombpy) (2024.1)\n",
            "Requirement already satisfied: charset-normalizer<4,>=2 in /usr/local/lib/python3.10/dist-packages (from requests->statsbombpy) (3.3.2)\n",
            "Requirement already satisfied: idna<4,>=2.5 in /usr/local/lib/python3.10/dist-packages (from requests->statsbombpy) (3.7)\n",
            "Requirement already satisfied: urllib3<3,>=1.21.1 in /usr/local/lib/python3.10/dist-packages (from requests->statsbombpy) (2.0.7)\n",
            "Requirement already satisfied: certifi>=2017.4.17 in /usr/local/lib/python3.10/dist-packages (from requests->statsbombpy) (2024.7.4)\n",
            "Requirement already satisfied: attrs>=21.2 in /usr/local/lib/python3.10/dist-packages (from requests-cache->statsbombpy) (24.2.0)\n",
            "Collecting cattrs>=22.2 (from requests-cache->statsbombpy)\n",
            "  Downloading cattrs-23.2.3-py3-none-any.whl.metadata (10 kB)\n",
            "Requirement already satisfied: platformdirs>=2.5 in /usr/local/lib/python3.10/dist-packages (from requests-cache->statsbombpy) (4.2.2)\n",
            "Collecting url-normalize>=1.4 (from requests-cache->statsbombpy)\n",
            "  Downloading url_normalize-1.4.3-py2.py3-none-any.whl.metadata (3.1 kB)\n",
            "Requirement already satisfied: exceptiongroup>=1.1.1 in /usr/local/lib/python3.10/dist-packages (from cattrs>=22.2->requests-cache->statsbombpy) (1.2.2)\n",
            "Requirement already satisfied: typing-extensions!=4.6.3,>=4.1.0 in /usr/local/lib/python3.10/dist-packages (from cattrs>=22.2->requests-cache->statsbombpy) (4.12.2)\n",
            "Requirement already satisfied: six>=1.5 in /usr/local/lib/python3.10/dist-packages (from python-dateutil>=2.8.2->pandas->statsbombpy) (1.16.0)\n",
            "Downloading statsbombpy-1.13.1-py3-none-any.whl (16 kB)\n",
            "Downloading requests_cache-1.2.1-py3-none-any.whl (61 kB)\n",
            "\u001b[2K   \u001b[90m━━━━━━━━━━━━━━━━━━━━━━━━━━━━━━━━━━━━━━━━\u001b[0m \u001b[32m61.4/61.4 kB\u001b[0m \u001b[31m4.2 MB/s\u001b[0m eta \u001b[36m0:00:00\u001b[0m\n",
            "\u001b[?25hDownloading cattrs-23.2.3-py3-none-any.whl (57 kB)\n",
            "\u001b[2K   \u001b[90m━━━━━━━━━━━━━━━━━━━━━━━━━━━━━━━━━━━━━━━━\u001b[0m \u001b[32m57.5/57.5 kB\u001b[0m \u001b[31m4.2 MB/s\u001b[0m eta \u001b[36m0:00:00\u001b[0m\n",
            "\u001b[?25hDownloading url_normalize-1.4.3-py2.py3-none-any.whl (6.8 kB)\n",
            "Installing collected packages: url-normalize, cattrs, requests-cache, statsbombpy\n",
            "Successfully installed cattrs-23.2.3 requests-cache-1.2.1 statsbombpy-1.13.1 url-normalize-1.4.3\n"
          ]
        }
      ]
    }
  ]
}